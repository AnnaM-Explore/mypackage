{
  "nbformat": 4,
  "nbformat_minor": 0,
  "metadata": {
    "colab": {
      "name": "Untitled5.ipynb",
      "provenance": [],
      "authorship_tag": "ABX9TyN2R40mC8gpWnZEPN/leYeh",
      "include_colab_link": true
    },
    "kernelspec": {
      "name": "python3",
      "display_name": "Python 3"
    }
  },
  "cells": [
    {
      "cell_type": "markdown",
      "metadata": {
        "id": "view-in-github",
        "colab_type": "text"
      },
      "source": [
        "<a href=\"https://colab.research.google.com/github/AnnaM-Explore/mypackage/blob/master/Untitled5.ipynb\" target=\"_parent\"><img src=\"https://colab.research.google.com/assets/colab-badge.svg\" alt=\"Open In Colab\"/></a>"
      ]
    },
    {
      "cell_type": "code",
      "metadata": {
        "id": "SyPLQ2e2He4F",
        "colab_type": "code",
        "colab": {}
      },
      "source": [
        "import numpy as np\n",
        "import pandas as pd\n",
        "import matplotlib.pyplot as plt\n",
        "import seaborn as sns\n",
        "from surprise import Reader, Dataset, SVD\n",
        "from surprise.model_selection import cross_validate, GridSearchCV, train_test_split\n",
        "import pickle"
      ],
      "execution_count": null,
      "outputs": []
    },
    {
      "cell_type": "code",
      "metadata": {
        "id": "qXYDfgYcIEGD",
        "colab_type": "code",
        "colab": {}
      },
      "source": [
        "train_df =pd.read_csv('train.csv')\n",
        "test_df = pd.read_csv('test.csv')"
      ],
      "execution_count": null,
      "outputs": []
    },
    {
      "cell_type": "code",
      "metadata": {
        "id": "w8ubszElLPMw",
        "colab_type": "code",
        "colab": {}
      },
      "source": [
        "train_df.drop('timestamp',axis=1,inplace=True)"
      ],
      "execution_count": null,
      "outputs": []
    },
    {
      "cell_type": "code",
      "metadata": {
        "id": "_ix_Ud_wIEJW",
        "colab_type": "code",
        "colab": {}
      },
      "source": [
        "test_df['rating'] = np.nan"
      ],
      "execution_count": null,
      "outputs": []
    },
    {
      "cell_type": "code",
      "metadata": {
        "id": "93C4HJKnIEOh",
        "colab_type": "code",
        "colab": {}
      },
      "source": [
        "reader = Reader(rating_scale=(0.5, 5.0))\n",
        "data = Dataset.load_from_df(train_df[['userId', 'movieId', 'rating']], reader)"
      ],
      "execution_count": null,
      "outputs": []
    },
    {
      "cell_type": "code",
      "metadata": {
        "id": "TNDTa8f4IEWa",
        "colab_type": "code",
        "colab": {}
      },
      "source": [
        "data2 = Dataset.load_from_df(test_df[['userId', 'movieId', 'rating']], reader)"
      ],
      "execution_count": null,
      "outputs": []
    },
    {
      "cell_type": "code",
      "metadata": {
        "id": "k495VTevIEZn",
        "colab_type": "code",
        "colab": {}
      },
      "source": [
        "param_grid = {'n_factors': [200], 'lr_all': [0.005, 0.008],'n_epochs': [25, 40], 'reg_all': [0.05, 0.08], 'init_std_dev': [0.03, 0.05]}\n",
        "gs = GridSearchCV(SVD, param_grid, measures=['rmse'], cv=1)\n",
        "gs.fit(data)"
      ],
      "execution_count": null,
      "outputs": []
    },
    {
      "cell_type": "code",
      "metadata": {
        "id": "W5WOmeGWIEdC",
        "colab_type": "code",
        "colab": {}
      },
      "source": [
        "#Assigning values\n",
        "t = gs.best_params\n",
        "factors = t['rmse']['n_factors']\n",
        "ephochs = t['rmse']['n_ephochs']\n",
        "lr_value = t['rmse']['lr_all']\n",
        "reg_value = t['rmse']['reg_all']\n",
        "init_value = t['rmse']['init_std_dev']"
      ],
      "execution_count": null,
      "outputs": []
    },
    {
      "cell_type": "code",
      "metadata": {
        "id": "rh-Lvzk7IEhu",
        "colab_type": "code",
        "colab": {}
      },
      "source": [
        "print(gs.best_params['rmse'])"
      ],
      "execution_count": null,
      "outputs": []
    },
    {
      "cell_type": "code",
      "metadata": {
        "id": "uIunGXazKi1D",
        "colab_type": "code",
        "colab": {}
      },
      "source": [
        "def svd_pp(save_path):\n",
        "    # Check the range of the rating\n",
        "    min_rat = ratings['rating'].min()\n",
        "    max_rat = ratings['rating'].max()\n",
        "    # Changing ratings to their standard form\n",
        "    reader = surprise.Reader(rating_scale = (min_rat,max_rat))\n",
        "    # Loading the data frame using surprice\n",
        "    data_load = surprise.Dataset.load_from_df(train_df, reader)\n",
        "    # Insatntiating surpricce\n",
        "    method = SVD(n_factors = factors , lr_all = lr_value , reg_all = reg_value , n_epochs = epochs , init_std_dev = init_value)\n",
        "    # Loading a trainset into the model\n",
        "    model = method.fit(data_load.build_full_trainset())\n",
        "    print (f\"Training completed. Saving model to: {save_path}\")\n",
        "\n",
        "    return pickle.dump(model, open(save_path,'wb'))"
      ],
      "execution_count": null,
      "outputs": []
    },
    {
      "cell_type": "code",
      "metadata": {
        "id": "wn35bcebKkir",
        "colab_type": "code",
        "colab": {}
      },
      "source": [
        "if __name__ == '__main__':\n",
        "    svd_pp('SVD.pkl')"
      ],
      "execution_count": null,
      "outputs": []
    },
    {
      "cell_type": "code",
      "metadata": {
        "id": "h8OpdSMVIEtT",
        "colab_type": "code",
        "colab": {}
      },
      "source": [
        "trainset = data.build_full_trainset()"
      ],
      "execution_count": null,
      "outputs": []
    },
    {
      "cell_type": "code",
      "metadata": {
        "id": "xRedPDnAIEUe",
        "colab_type": "code",
        "colab": {}
      },
      "source": [
        "trainset2, testset2 = train_test_split(data2, test_size=1.0)"
      ],
      "execution_count": null,
      "outputs": []
    },
    {
      "cell_type": "code",
      "metadata": {
        "id": "1Rr62yEdIESu",
        "colab_type": "code",
        "colab": {}
      },
      "source": [
        "algo = SVD(n_factors = factors , lr_all = lr_value , reg_all = reg_value , n_epochs = epochs , init_std_dev = init_value)\n",
        "predictions = algo.fit(trainset).test(testset2)"
      ],
      "execution_count": null,
      "outputs": []
    },
    {
      "cell_type": "code",
      "metadata": {
        "id": "YM4Y90YMIEMz",
        "colab_type": "code",
        "colab": {}
      },
      "source": [
        "test_pred_df = pd.DataFrame(predictions)\n",
        "test_pred_df.head()"
      ],
      "execution_count": null,
      "outputs": []
    },
    {
      "cell_type": "code",
      "metadata": {
        "id": "kBxW8ItsIED-",
        "colab_type": "code",
        "colab": {}
      },
      "source": [
        "sub = test_pred_df.copy()"
      ],
      "execution_count": null,
      "outputs": []
    },
    {
      "cell_type": "code",
      "metadata": {
        "id": "tkJBr5H2Jvcq",
        "colab_type": "code",
        "colab": {}
      },
      "source": [
        "sub['uid'] = sub['uid'].astype(str)\n",
        "sub['iid'] = sub['iid'].astype(str)"
      ],
      "execution_count": null,
      "outputs": []
    },
    {
      "cell_type": "code",
      "metadata": {
        "id": "GfrhDgOyJvaA",
        "colab_type": "code",
        "colab": {}
      },
      "source": [
        "sub['Id']= sub['uid'] + '_' + sub['iid']"
      ],
      "execution_count": null,
      "outputs": []
    },
    {
      "cell_type": "code",
      "metadata": {
        "id": "zF-FOGU3JvWn",
        "colab_type": "code",
        "colab": {}
      },
      "source": [
        "kaggle_df = pd.DataFrame(\n",
        "    {'Id': sub['Id'],\n",
        "     'rating': sub['est']\n",
        "    })"
      ],
      "execution_count": null,
      "outputs": []
    },
    {
      "cell_type": "code",
      "metadata": {
        "id": "itwcp_dQJvSw",
        "colab_type": "code",
        "colab": {}
      },
      "source": [
        "kaggle_df.to_csv(\"recsys8.csv\",index=False)"
      ],
      "execution_count": null,
      "outputs": []
    },
    {
      "cell_type": "code",
      "metadata": {
        "id": "hQlx7NgtJvQ-",
        "colab_type": "code",
        "colab": {}
      },
      "source": [
        ""
      ],
      "execution_count": null,
      "outputs": []
    },
    {
      "cell_type": "code",
      "metadata": {
        "id": "tn8x9FiHJvOm",
        "colab_type": "code",
        "colab": {}
      },
      "source": [
        ""
      ],
      "execution_count": null,
      "outputs": []
    },
    {
      "cell_type": "code",
      "metadata": {
        "id": "AP76oJwMJvK9",
        "colab_type": "code",
        "colab": {}
      },
      "source": [
        ""
      ],
      "execution_count": null,
      "outputs": []
    },
    {
      "cell_type": "code",
      "metadata": {
        "id": "VtC_4HY4Ju8S",
        "colab_type": "code",
        "colab": {}
      },
      "source": [
        ""
      ],
      "execution_count": null,
      "outputs": []
    }
  ]
}